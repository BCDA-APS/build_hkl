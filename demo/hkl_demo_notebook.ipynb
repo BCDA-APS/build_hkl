{
 "cells": [
  {
   "cell_type": "markdown",
   "metadata": {},
   "source": [
    "# Demonstration of *hkl*\n",
    "\n",
    "Demonstrate the [*hkl*](https://people.debian.org/~picca/hkl/hkl.html) \n",
    "package for diffractometer computations.\n",
    "\n",
    "First, consider you have a sample of \"*demo*\" with known unit cell parameters, mounted on a 6-circle (non kappa) diffractometer:\n",
    "\n",
    "| a | b | c | $\\alpha$ | $\\beta$ | $\\gamma$ |\n",
    "| ---- | ---- | ---- | ---- | ---- | ---- |\n",
    "| 4.542 | 16.955 | 7.389 | 90 | 90 | 90 |\n",
    "\n",
    "\n",
    "This example was derived from the unit test code: https://repo.or.cz/hkl.git/blob/HEAD:/tests/bindings/polarisation.py\n",
    "with settings from https://repo.or.cz/hkl.git/blob/refs/heads/next:/tests/bindings/crystal.ini\n",
    "\n",
    "-----\n",
    "\n",
    "```\n",
    "# these other parameters from crystal.ini\n",
    "\n",
    "\n",
    "Wavelength 1.62751693358\n",
    "\n",
    "R0 0 0.0 8.0 0.0 0 1 0.0 22.31594 89.1377 0.0 0.0 45.15857\n",
    "R1 1 0.0 12.0 1.0 0 1 0.0 34.96232 78.3139 0.0 0.0 71.8007\n",
    "\n",
    "Engine hkl\n",
    "\n",
    "Mode constant_phi_vertical\n",
    "\n",
    "PsiRef not available in current engine mode\n",
    "\n",
    "```"
   ]
  },
  {
   "cell_type": "markdown",
   "metadata": {},
   "source": [
    "## Before you start ...\n",
    "\n",
    "In the console window:\n",
    "\n",
    "```\n",
    "# make sure to use the bash shell\n",
    "bash\n",
    "\n",
    "# use python3\n",
    "source /APSshare/anaconda3/x86_64/bin/activate\n",
    "\n",
    "# setup the custom hkl environment\n",
    "(base) jemian@wow ~ $ . /APSshare/linux/64/hkl-5/hkl_environment.sh\n",
    "\n",
    "# start jupyter\n",
    "jupyter-notebook\n",
    "\n",
    "```\n",
    "\n",
    "You'll see jupyter start reporting messages in the console:\n",
    "\n",
    "```\n",
    "[I 11:21:25.136 NotebookApp] Serving notebooks from local directory: /home/JEMIAN\n",
    "[I 11:21:25.136 NotebookApp] The Jupyter Notebook is running at:\n",
    "[I 11:21:25.137 NotebookApp] http://localhost:8888/?token=______very_long_unique_hexadecimal_code_here______\n",
    "[I 11:21:25.137 NotebookApp] Use Control-C to stop this server and shut down all kernels (twice to skip confirmation).\n",
    "[C 11:21:25.143 NotebookApp]\n",
    "\n",
    "    To access the notebook, open this file in a browser:\n",
    "        file:///run/user/970/jupyter/nbserver-24247-open.html\n",
    "    Or copy and paste one of these URLs:\n",
    "        http://localhost:8888/?token=______very_long_unique_hexadecimal_code_here______\n",
    "```\n",
    "\n",
    "... more to come, ignore until you're done"
   ]
  },
  {
   "cell_type": "markdown",
   "metadata": {},
   "source": [
    "## imports"
   ]
  },
  {
   "cell_type": "code",
   "execution_count": 1,
   "metadata": {},
   "outputs": [],
   "source": [
    "from collections import namedtuple\n",
    "from gi.repository import GLib\n",
    "import gi\n",
    "gi.require_version(\"Hkl\", \"5.0\")\n",
    "from gi.repository import Hkl\n",
    "import math\n",
    "from numpy import (linspace, empty)\n",
    "from numpy.linalg import inv, norm\n",
    "import os\n",
    "import pyRestTable\n",
    "import unittest\n",
    "\n",
    "\n",
    "H_NU = 12.3984244 # voltage*wavelength product, angstrom * keV"
   ]
  },
  {
   "cell_type": "markdown",
   "metadata": {},
   "source": [
    "## declare the sample lattice parameters"
   ]
  },
  {
   "cell_type": "code",
   "execution_count": 2,
   "metadata": {},
   "outputs": [],
   "source": [
    "sample = Hkl.Sample.new(\"demo\")\n",
    "lattice = Hkl.Lattice.new(\n",
    "    4.542,               # a, angstrom\n",
    "    16.955,              # b, angstrom\n",
    "    7.389,               # c, angstrom\n",
    "    math.radians(90.0),  # alpha, radians\n",
    "    math.radians(90.0),  # beta, radians\n",
    "    math.radians(90.0)   # gamma, radians\n",
    ")\n",
    "sample.lattice_set(lattice)"
   ]
  },
  {
   "cell_type": "code",
   "execution_count": 3,
   "metadata": {},
   "outputs": [],
   "source": [
    "wavelength = 1.62751693358\n",
    "energy = H_NU / wavelength"
   ]
  },
  {
   "cell_type": "code",
   "execution_count": 4,
   "metadata": {},
   "outputs": [],
   "source": [
    "detector = Hkl.Detector.factory_new(0)  # TODO: what other values?"
   ]
  },
  {
   "cell_type": "code",
   "execution_count": 5,
   "metadata": {},
   "outputs": [
    {
     "name": "stdout",
     "output_type": "stream",
     "text": [
      "diffractometers: ['E4CH', 'E4CV', 'E6C', 'K4CV', 'K6C', 'PETRA3 P09 EH2', 'PETRA3 P23 4C', 'PETRA3 P23 6C', 'SOLEIL MARS', 'SOLEIL SIRIUS KAPPA', 'SOLEIL SIRIUS TURRET', 'SOLEIL SIXS MED1+2', 'SOLEIL SIXS MED2+2', 'SOLEIL SIXS MED2+3', 'SOLEIL SIXS MED2+3 v2', 'TwoC', 'ZAXIS']\n",
      "E6C axes: ['mu', 'omega', 'chi', 'phi', 'gamma', 'delta']\n"
     ]
    }
   ],
   "source": [
    "# factories will be used to make the *hkl* objects we'll need\n",
    "factories = Hkl.factories()\n",
    "\n",
    "# list the diffractometers known to this version of *hkl*\n",
    "print(f\"diffractometers: {sorted(factories.keys())}\")\n",
    "\n",
    "# our diffractometer is E6C: Eulerian 6-circle (not kappa or Petra P23)\n",
    "# define a \"factory\" since we'll use it later\n",
    "diffractometer_type = \"E6C\"\n",
    "e6c_factory = factories[diffractometer_type]\n",
    "\n",
    "# axes: MU, OMEGA, CHI, PHI, GAMMA, DELTA\n",
    "print(f\"{diffractometer_type} axes: {e6c_factory.create_new_geometry().axis_names_get()}\")"
   ]
  },
  {
   "cell_type": "code",
   "execution_count": 6,
   "metadata": {},
   "outputs": [],
   "source": [
    "# sample orientation and reflection 0 (0 8 0)\n",
    "angles = [0.0, 22.31594, 89.1377, 0.0, 0.0, 45.15857]\n",
    "\n",
    "geometry = e6c_factory.create_new_geometry()\n",
    "geometry.axis_values_set(angles, Hkl.UnitEnum.USER)\n",
    "geometry.wavelength_set(wavelength, Hkl.UnitEnum.USER)\n",
    "\n",
    "or0 = sample.add_reflection(geometry, detector, 0, 8, 0)"
   ]
  },
  {
   "cell_type": "code",
   "execution_count": 7,
   "metadata": {},
   "outputs": [],
   "source": [
    "# add reflection or1 (0 12 1)\n",
    "angles = [0.0, 34.96232, 78.3139, 0.0, 0.0, 71.8007]\n",
    "geometry.axis_values_set(angles, Hkl.UnitEnum.USER)\n",
    "or1 = sample.add_reflection(geometry, detector, 0, 12, 1)"
   ]
  },
  {
   "cell_type": "code",
   "execution_count": 8,
   "metadata": {},
   "outputs": [],
   "source": [
    "# Helper methods\n",
    "\n",
    "def hkl_matrix_to_numpy(m):\n",
    "    M = empty((3, 3))\n",
    "    for i in range(3):\n",
    "        for j in range(3):\n",
    "            M[i, j] = m.get(i, j)\n",
    "    return M\n",
    "\n",
    "\n",
    "def from_numpy_to_hkl_vector(v):\n",
    "    V = Hkl.Vector()\n",
    "    V.init(v[0], v[1], v[2])\n",
    "    return V"
   ]
  },
  {
   "cell_type": "code",
   "execution_count": 9,
   "metadata": {},
   "outputs": [],
   "source": [
    "# compute UB with or0 and or1\n",
    "sample.compute_UB_busing_levy(or0, or1)\n",
    "UB = hkl_matrix_to_numpy(sample.UB_get())"
   ]
  },
  {
   "cell_type": "code",
   "execution_count": 10,
   "metadata": {},
   "outputs": [
    {
     "name": "stdout",
     "output_type": "stream",
     "text": [
      "['bissector_vertical', 'constant_omega_vertical', 'constant_chi_vertical', 'constant_phi_vertical', 'lifting_detector_phi', 'lifting_detector_omega', 'lifting_detector_mu', 'double_diffraction_vertical', 'bissector_horizontal', 'double_diffraction_horizontal', 'psi_constant_vertical', 'psi_constant_horizontal', 'constant_mu_horizontal']\n"
     ]
    },
    {
     "data": {
      "text/plain": [
       "1"
      ]
     },
     "execution_count": 10,
     "metadata": {},
     "output_type": "execute_result"
    }
   ],
   "source": [
    "# compute angles for reciprocal lattice vector h, k, l\n",
    "engine_name = \"hkl\"\n",
    "engines = e6c_factory.create_new_engine_list()\n",
    "engines.init(geometry, detector, sample)\n",
    "\n",
    "engine = engines.engine_get_by_name(engine_name)\n",
    "print(engine.modes_names_get())\n",
    "\n",
    "# pick our mode\n",
    "engine.current_mode_set(\"constant_phi_vertical\")"
   ]
  },
  {
   "cell_type": "markdown",
   "metadata": {},
   "source": [
    "That defines our diffractometer setup.\n",
    "\n",
    "----"
   ]
  },
  {
   "cell_type": "code",
   "execution_count": 11,
   "metadata": {
    "scrolled": true
   },
   "outputs": [
    {
     "name": "stdout",
     "output_type": "stream",
     "text": [
      "=== ==== === === ================== ================== === ===== ==================\n",
      "h   k    l   mu  omega              chi                phi gamma delta             \n",
      "=== ==== === === ================== ================== === ===== ==================\n",
      "0   1    1   0.0 3.4824458166048444 22.712897698011936 0.0 0.0   13.799774663132288\n",
      "0.0 8.0  0.0 0.0 22.31594087562736  89.13769999977886  0.0 0.0   45.158571742842376\n",
      "0.0 12.0 1.0 0.0 34.963469180020944 78.33265876350477  0.0 0.0   71.80070421791422 \n",
      "=== ==== === === ================== ================== === ===== ==================\n",
      "\n"
     ]
    }
   ],
   "source": [
    "def calc(hkl):\n",
    "    # assumes these are known: sample, geometry, detector, engine\n",
    "    solutions = engine.pseudo_axis_values_set(hkl, Hkl.UnitEnum.USER)\n",
    "    for i, s in enumerate(solutions.items()):\n",
    "        values = s.geometry_get().axis_values_get(Hkl.UnitEnum.USER)\n",
    "        # print(f\"solution {i+1}: {values}\")\n",
    "    first_solution = solutions.items()[0]\n",
    "    values = first_solution.geometry_get().axis_values_get(Hkl.UnitEnum.USER)\n",
    "    # print(\"picking first one\")\n",
    "    return values\n",
    "\n",
    "table = pyRestTable.Table()\n",
    "table.labels = \"h k l\".split()\n",
    "table.labels += geometry.axis_names_get()\n",
    "\n",
    "hkl = (0, 1, 1)\n",
    "angles = calc(hkl)\n",
    "# print(f\"{hkl}: {angles}\")\n",
    "table.addRow(list(hkl) + angles)\n",
    "\n",
    "for reflection in (or0, or1):\n",
    "    hkl = reflection.hkl_get()\n",
    "    angles = calc(hkl)\n",
    "    # print(f\"{hkl}: {angles}\")\n",
    "    table.addRow(list(hkl) + angles)\n",
    "\n",
    "print(table)"
   ]
  },
  {
   "cell_type": "markdown",
   "metadata": {},
   "source": [
    "-----\n",
    "\n",
    "## step scan from `or0` to `or1`"
   ]
  },
  {
   "cell_type": "code",
   "execution_count": 12,
   "metadata": {},
   "outputs": [
    {
     "name": "stdout",
     "output_type": "stream",
     "text": [
      "=== ==== ==== === ================== ================= === ===== ==================\n",
      "h   k    l    mu  omega              chi               phi gamma delta             \n",
      "=== ==== ==== === ================== ================= === ===== ==================\n",
      "0.0 8.0  0.0  0.0 22.31594087562736  89.13769999977886 0.0 0.0   45.158571742842376\n",
      "0.0 9.0  0.25 0.0 25.15499515419808  85.49774632991891 0.0 0.0   51.29500599244316 \n",
      "0.0 10.0 0.5  0.0 28.214868205373786 82.60530989054361 0.0 0.0   57.77618836086002 \n",
      "0.0 11.0 0.75 0.0 31.482805809422153 80.26265823893127 0.0 0.0   64.60230764844736 \n",
      "0.0 12.0 1.0  0.0 34.963469180020944 78.33265876350477 0.0 0.0   71.80070421791422 \n",
      "=== ==== ==== === ================== ================= === ===== ==================\n",
      "\n"
     ]
    }
   ],
   "source": [
    "num_points = 5\n",
    "# get the sequence of hkl values for each Miller index\n",
    "# reference by name, not position\n",
    "# these are named tuples\n",
    "_s = or0.hkl_get()\n",
    "_f = or1.hkl_get()\n",
    "_h = linspace(_s.h, _f.h, num_points)\n",
    "_k = linspace(_s.k, _f.k, num_points)\n",
    "_l = linspace(_s.l, _f.l, num_points)\n",
    "\n",
    "table = pyRestTable.Table()\n",
    "table.labels = \"h k l\".split()\n",
    "table.labels += geometry.axis_names_get()\n",
    "\n",
    "for hkl in zip(_h, _k, _l):\n",
    "    angles = calc(hkl)\n",
    "    #print(f\"({hkl[0]:6g} {hkl[1]:6g} {hkl[2]:6g}): {angles}\")\n",
    "    table.addRow(list(hkl) + angles)\n",
    "\n",
    "print(table)"
   ]
  }
 ],
 "metadata": {
  "kernelspec": {
   "display_name": "Python 3",
   "language": "python",
   "name": "python3"
  },
  "language_info": {
   "codemirror_mode": {
    "name": "ipython",
    "version": 3
   },
   "file_extension": ".py",
   "mimetype": "text/x-python",
   "name": "python",
   "nbconvert_exporter": "python",
   "pygments_lexer": "ipython3",
   "version": "3.6.8"
  }
 },
 "nbformat": 4,
 "nbformat_minor": 2
}
